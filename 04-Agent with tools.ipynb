{
 "cells": [
  {
   "cell_type": "markdown",
   "metadata": {},
   "source": [
    "### Agent with tool\n",
    "\n",
    "<img src=\"./assets/agent_tools.png\" alt=\"drawing\" width=\"600\"/>"
   ]
  },
  {
   "cell_type": "markdown",
   "metadata": {},
   "source": [
    "Exemple d'un agent disposant d'un outil de type Recherche internet (via le service Tavily search)"
   ]
  },
  {
   "cell_type": "code",
   "execution_count": 1,
   "metadata": {},
   "outputs": [
    {
     "name": "stdout",
     "output_type": "stream",
     "text": [
      "\n",
      "\n",
      "\u001b[1m> Entering new AgentExecutor chain...\u001b[0m\n",
      "\u001b[32;1m\u001b[1;3m\n",
      "Invoking: `tavily_search_results_json` with `{'query': 'Liste Didier Deschamps Euro 2024'}`\n",
      "\n",
      "\n",
      "\u001b[0m\u001b[36;1m\u001b[1;3m[{'url': 'https://www.lemonde.fr/en/france/article/2024/05/16/euro-2024-didier-deschamps-announces-25-man-squad-for-summer-tournament_6671694_7.html', 'content': \"May 16, 2024 — May 16, 2024France coach Didier Deschamps brought back midfielder N'Golo Kanté and gave a first call-up to PSG forward Bradley Barcola. Le Monde with AP and\\xa0...\"}, {'url': 'https://www.goal.com/en-us/lists/france-euro-2024-squad-didier-deschamps-germany/blt2bb9d0d88d655363', 'content': 'May 17, 2024 — May 17, 2024Which 23 players will France coach Didier Deschamps take to Euro 2024 in Germany?'}, {'url': 'https://www.fourfourtwo.com/features/france-euro-2024-squad-players-line-up-team-germany', 'content': '2 days ago — 2 days agoFrance Euro 2024 squad: The full 25-man team · GK: Brice Samba (Lens) · GK: Mike Maignan (AC Milan) · GK: Alphonse Areola (West Ham) · DF: Ibrahima\\xa0...'}, {'url': 'https://sports.yahoo.com/france-euro-2024-squad-makes-161814776.html', 'content': 'May 20, 2024 — May 20, 2024Didier Deschamps has named a star-studded squad headlined by Kylian Mbappe and backed by plenty of major tournament experience after winning\\xa0...'}]\u001b[0m\u001b[32;1m\u001b[1;3mDidier Deschamps has announced a 25-man squad for Euro 2024. The squad includes players like N'Golo Kanté and Bradley Barcola. You can find more details about the squad on [Le Monde](https://www.lemonde.fr/en/france/article/2024/05/16/euro-2024-didier-deschamps-announces-25-man-squad-for-summer-tournament_6671694_7.html).\u001b[0m\n",
      "\n",
      "\u001b[1m> Finished chain.\u001b[0m\n"
     ]
    },
    {
     "data": {
      "text/plain": [
       "{'input': \"Qui fait partie de la liste de Didier Deschamps pour l'Euro 2024 ?\",\n",
       " 'output': \"Didier Deschamps has announced a 25-man squad for Euro 2024. The squad includes players like N'Golo Kanté and Bradley Barcola. You can find more details about the squad on [Le Monde](https://www.lemonde.fr/en/france/article/2024/05/16/euro-2024-didier-deschamps-announces-25-man-squad-for-summer-tournament_6671694_7.html).\"}"
      ]
     },
     "execution_count": 1,
     "metadata": {},
     "output_type": "execute_result"
    }
   ],
   "source": [
    "from dotenv import load_dotenv\n",
    "load_dotenv()\n",
    "from langchain_community.tools.tavily_search import TavilySearchResults\n",
    "from langchain.agents import AgentExecutor, create_openai_functions_agent\n",
    "from langchain_openai import ChatOpenAI\n",
    "from langchain_core.prompts import (\n",
    "    ChatPromptTemplate\n",
    ")\n",
    "instructions = \"\"\"You are an assistant.\"\"\"\n",
    "base_prompt = prompt = ChatPromptTemplate.from_messages([\n",
    "  (\"system\", \"{instructions}\"),\n",
    "  (\"placeholder\", \"{chat_history}\"),\n",
    "  (\"human\", \"{input}\"),\n",
    "  (\"placeholder\", \"{agent_scratchpad}\")]\n",
    ")\n",
    "prompt = base_prompt.partial(instructions=instructions)\n",
    "llm = ChatOpenAI(temperature=0)\n",
    "tavily_tool = TavilySearchResults()\n",
    "tools = [tavily_tool]\n",
    "agent = create_openai_functions_agent(llm, tools, prompt)\n",
    "agent_executor = AgentExecutor(\n",
    "    agent=agent,\n",
    "    tools=tools,\n",
    "    verbose=True,\n",
    ")\n",
    "\n",
    "agent_executor.invoke({\"input\": \"Qui fait partie de la liste de Didier Deschamps pour l'Euro 2024 ?\"})"
   ]
  }
 ],
 "metadata": {
  "kernelspec": {
   "display_name": "meetup_genai",
   "language": "python",
   "name": "python3"
  },
  "language_info": {
   "codemirror_mode": {
    "name": "ipython",
    "version": 3
   },
   "file_extension": ".py",
   "mimetype": "text/x-python",
   "name": "python",
   "nbconvert_exporter": "python",
   "pygments_lexer": "ipython3",
   "version": "3.12.3"
  }
 },
 "nbformat": 4,
 "nbformat_minor": 2
}
